{
 "cells": [
  {
   "cell_type": "markdown",
   "id": "5e81888a",
   "metadata": {},
   "source": [
    "# KD AI Cloud Deneyim"
   ]
  },
  {
   "cell_type": "markdown",
   "id": "b294f1bc",
   "metadata": {},
   "source": [
    "Deneyim açıklaması"
   ]
  },
  {
   "cell_type": "markdown",
   "id": "41eb1a6b",
   "metadata": {},
   "source": [
    "Import örneği (Yüklü olan modüller)"
   ]
  },
  {
   "cell_type": "code",
   "execution_count": 2,
   "id": "f1f958ae",
   "metadata": {},
   "outputs": [],
   "source": [
    "import numpy as np\n",
    "import pandas as p"
   ]
  },
  {
   "cell_type": "markdown",
   "id": "208ed5bf",
   "metadata": {},
   "source": [
    "Import örneği (Yüklü olmayan modül)"
   ]
  },
  {
   "cell_type": "code",
   "execution_count": 1,
   "id": "88c44426",
   "metadata": {
    "scrolled": true
   },
   "outputs": [
    {
     "ename": "ModuleNotFoundError",
     "evalue": "No module named 'matlpotlib'",
     "output_type": "error",
     "traceback": [
      "\u001b[0;31m---------------------------------------------------------------------------\u001b[0m",
      "\u001b[0;31mModuleNotFoundError\u001b[0m                       Traceback (most recent call last)",
      "Input \u001b[0;32mIn [1]\u001b[0m, in \u001b[0;36m<cell line: 1>\u001b[0;34m()\u001b[0m\n\u001b[0;32m----> 1\u001b[0m \u001b[38;5;28;01mimport\u001b[39;00m \u001b[38;5;21;01mmatlpotlib\u001b[39;00m\u001b[38;5;21;01m.\u001b[39;00m\u001b[38;5;21;01mpyplot\u001b[39;00m \u001b[38;5;28;01mas\u001b[39;00m \u001b[38;5;21;01mm\u001b[39;00m\n",
      "\u001b[0;31mModuleNotFoundError\u001b[0m: No module named 'matlpotlib'"
     ]
    }
   ],
   "source": [
    "import matlpotlib.pyplot as m"
   ]
  },
  {
   "cell_type": "markdown",
   "id": "301b25f8",
   "metadata": {},
   "source": [
    "Kod örneği"
   ]
  },
  {
   "cell_type": "code",
   "execution_count": null,
   "id": "2de305e0",
   "metadata": {},
   "outputs": [],
   "source": [
    "def topla(a,b):\n",
    "    print(int(a)+int(b))\n",
    "\n",
    "topla(8,4)"
   ]
  }
 ],
 "metadata": {
  "kernelspec": {
   "display_name": "Python 3 (ipykernel)",
   "language": "python",
   "name": "python3"
  },
  "language_info": {
   "codemirror_mode": {
    "name": "ipython",
    "version": 3
   },
   "file_extension": ".py",
   "mimetype": "text/x-python",
   "name": "python",
   "nbconvert_exporter": "python",
   "pygments_lexer": "ipython3",
   "version": "3.9.7"
  }
 },
 "nbformat": 4,
 "nbformat_minor": 5
}
